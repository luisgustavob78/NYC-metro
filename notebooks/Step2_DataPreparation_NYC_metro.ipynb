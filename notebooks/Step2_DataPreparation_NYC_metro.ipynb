{
 "cells": [
  {
   "cell_type": "markdown",
   "id": "61263a9a",
   "metadata": {},
   "source": [
    "# Data Preparation - Raízen Technical Challenge\n",
    "\n",
    "### Notebook Intro\n",
    "This notebook is the 2nd step in the construction of our project for the Raízen Technical Challenge, where we are going to use the insights we got from our Exploratory Data Analysis to process our data.\n",
    "\n",
    "### Content\n",
    "Here, we will do all the necessary data treatments to make our data ready for a machine learning model.\n",
    "\n",
    "### Definitions\n",
    "Before we start our task, we must make some things clear. For a matter of time, we will generalize our insights from 2010.csv to all other csvs files. It includes:\n",
    "\n",
    "1. missing values treatment;\n",
    "2. Data consolidation;\n",
    "3. Feature engineering.\n",
    "\n",
    "In a real project, the right thing to be done would be analyze the specifities of each year of each csv. Considering that this challenge is a small simulated scenario of a real project, we will assume that the conclusions we took so far are enough for our next steps. Beyond that, we can use the feature \"year\" in our machine learning algorithm and let our model learn the yearly patterns."
   ]
  },
  {
   "cell_type": "code",
   "execution_count": 2,
   "id": "8db16e71",
   "metadata": {},
   "outputs": [],
   "source": [
    "#setup of our session\n",
    "import pandas as pd\n",
    "import numpy as np\n",
    "\n",
    "import matplotlib.pyplot as plt\n",
    "import seaborn as sns\n",
    "\n",
    "import warnings\n",
    "warnings.filterwarnings(\"ignore\")"
   ]
  },
  {
   "cell_type": "markdown",
   "id": "b05151bc",
   "metadata": {},
   "source": [
    "### 2010 csv data preparation"
   ]
  },
  {
   "cell_type": "code",
   "execution_count": 2,
   "id": "99b69567",
   "metadata": {},
   "outputs": [
    {
     "data": {
      "text/html": [
       "<div>\n",
       "<style scoped>\n",
       "    .dataframe tbody tr th:only-of-type {\n",
       "        vertical-align: middle;\n",
       "    }\n",
       "\n",
       "    .dataframe tbody tr th {\n",
       "        vertical-align: top;\n",
       "    }\n",
       "\n",
       "    .dataframe thead th {\n",
       "        text-align: right;\n",
       "    }\n",
       "</style>\n",
       "<table border=\"1\" class=\"dataframe\">\n",
       "  <thead>\n",
       "    <tr style=\"text-align: right;\">\n",
       "      <th></th>\n",
       "      <th>time</th>\n",
       "      <th>ca</th>\n",
       "      <th>unit</th>\n",
       "      <th>scp</th>\n",
       "      <th>station</th>\n",
       "      <th>linename</th>\n",
       "      <th>division</th>\n",
       "      <th>desc</th>\n",
       "      <th>entries</th>\n",
       "      <th>exits</th>\n",
       "    </tr>\n",
       "  </thead>\n",
       "  <tbody>\n",
       "    <tr>\n",
       "      <th>0</th>\n",
       "      <td>2010-04-17 04:00:00</td>\n",
       "      <td>A002</td>\n",
       "      <td>R051</td>\n",
       "      <td>02-00-00</td>\n",
       "      <td>LEXINGTON AVE</td>\n",
       "      <td>456NQR</td>\n",
       "      <td>BMT</td>\n",
       "      <td>REGULAR</td>\n",
       "      <td>2704717.0</td>\n",
       "      <td>928793.0</td>\n",
       "    </tr>\n",
       "    <tr>\n",
       "      <th>1</th>\n",
       "      <td>2010-04-17 04:00:00</td>\n",
       "      <td>A002</td>\n",
       "      <td>R051</td>\n",
       "      <td>02-00-01</td>\n",
       "      <td>LEXINGTON AVE</td>\n",
       "      <td>456NQR</td>\n",
       "      <td>BMT</td>\n",
       "      <td>REGULAR</td>\n",
       "      <td>2697632.0</td>\n",
       "      <td>566683.0</td>\n",
       "    </tr>\n",
       "    <tr>\n",
       "      <th>2</th>\n",
       "      <td>2010-04-17 04:00:00</td>\n",
       "      <td>A002</td>\n",
       "      <td>R051</td>\n",
       "      <td>02-03-00</td>\n",
       "      <td>LEXINGTON AVE</td>\n",
       "      <td>456NQR</td>\n",
       "      <td>BMT</td>\n",
       "      <td>REGULAR</td>\n",
       "      <td>1127722.0</td>\n",
       "      <td>3943492.0</td>\n",
       "    </tr>\n",
       "  </tbody>\n",
       "</table>\n",
       "</div>"
      ],
      "text/plain": [
       "                  time    ca  unit       scp        station linename division  \\\n",
       "0  2010-04-17 04:00:00  A002  R051  02-00-00  LEXINGTON AVE   456NQR      BMT   \n",
       "1  2010-04-17 04:00:00  A002  R051  02-00-01  LEXINGTON AVE   456NQR      BMT   \n",
       "2  2010-04-17 04:00:00  A002  R051  02-03-00  LEXINGTON AVE   456NQR      BMT   \n",
       "\n",
       "      desc    entries      exits  \n",
       "0  REGULAR  2704717.0   928793.0  \n",
       "1  REGULAR  2697632.0   566683.0  \n",
       "2  REGULAR  1127722.0  3943492.0  "
      ]
     },
     "execution_count": 2,
     "metadata": {},
     "output_type": "execute_result"
    }
   ],
   "source": [
    "#loading 2010 csv\n",
    "df_2010 = pd.read_csv(\"../dados_desafio/csvs/2010.csv\")\n",
    "df_2010.head(3)"
   ]
  },
  {
   "cell_type": "code",
   "execution_count": 3,
   "id": "9a0f57e1",
   "metadata": {},
   "outputs": [],
   "source": [
    "#dropping nas\n",
    "df_2010 = df_2010.dropna()"
   ]
  },
  {
   "cell_type": "code",
   "execution_count": 4,
   "id": "39173f90",
   "metadata": {},
   "outputs": [],
   "source": [
    "#filtering our dataset\n",
    "df_2010 = df_2010[df_2010[\"entries\"] >= 0]\n",
    "df_2010 = df_2010[df_2010[\"exits\"] >= 0]"
   ]
  },
  {
   "cell_type": "code",
   "execution_count": 5,
   "id": "9da9afa4",
   "metadata": {},
   "outputs": [],
   "source": [
    "#first variable: entries\n",
    "\n",
    "#defining some variables for our calculation\n",
    "ids = [\"ca\", \"station\", \"scp\", \"linename\"]\n",
    "variable = \"entries\"\n",
    "\n",
    "#creating the feature\n",
    "df_2010[\"real_entries\"] = df_2010.groupby(ids)[variable].diff()"
   ]
  },
  {
   "cell_type": "code",
   "execution_count": 6,
   "id": "20540791",
   "metadata": {},
   "outputs": [],
   "source": [
    "#second variable: exits\n",
    "\n",
    "#defining some variables for our calculation\n",
    "ids = [\"ca\", \"station\", \"scp\", \"linename\"]\n",
    "variable = \"exits\"\n",
    "\n",
    "#creating the feature\n",
    "df_2010[\"real_exits\"] = df_2010.groupby(ids)[variable].diff()"
   ]
  },
  {
   "cell_type": "code",
   "execution_count": 7,
   "id": "2df0c803",
   "metadata": {},
   "outputs": [],
   "source": [
    "#the function diff() generates missing values for the first rows.\n",
    "#As these first rows are our start point, we will fill the new columns missing values with 0.\n",
    "df_2010[\"real_entries\"] = df_2010[\"real_entries\"].fillna(0)\n",
    "df_2010[\"real_exits\"] = df_2010[\"real_exits\"].fillna(0)"
   ]
  },
  {
   "cell_type": "code",
   "execution_count": 8,
   "id": "7cb6339f",
   "metadata": {},
   "outputs": [],
   "source": [
    "#creating our target column\n",
    "df_2010[\"people_flow\"] = df_2010[\"real_entries\"] + df_2010[\"real_exits\"]\n",
    "df_2010[\"people_flow\"] = df_2010[\"people_flow\"].round(2)"
   ]
  },
  {
   "cell_type": "code",
   "execution_count": 9,
   "id": "b4e8c33f",
   "metadata": {},
   "outputs": [],
   "source": [
    "#dropping what we defined as outliers\n",
    "df_2010 = df_2010[(df_2010[\"people_flow\"]<50000)&(df_2010[\"people_flow\"]>=0)]"
   ]
  },
  {
   "cell_type": "code",
   "execution_count": 10,
   "id": "9bae01ef",
   "metadata": {},
   "outputs": [],
   "source": [
    "#converting time to datetime\n",
    "df_2010[\"time\"] = pd.to_datetime(df_2010[\"time\"], format=\"%Y-%m-%d %H:%M:%S\")\n",
    "\n",
    "#extracting only date\n",
    "df_2010[\"date\"] = df_2010[\"time\"].dt.date"
   ]
  },
  {
   "cell_type": "code",
   "execution_count": 12,
   "id": "8353fe6d",
   "metadata": {
    "scrolled": true
   },
   "outputs": [
    {
     "data": {
      "text/html": [
       "<div>\n",
       "<style scoped>\n",
       "    .dataframe tbody tr th:only-of-type {\n",
       "        vertical-align: middle;\n",
       "    }\n",
       "\n",
       "    .dataframe tbody tr th {\n",
       "        vertical-align: top;\n",
       "    }\n",
       "\n",
       "    .dataframe thead th {\n",
       "        text-align: right;\n",
       "    }\n",
       "</style>\n",
       "<table border=\"1\" class=\"dataframe\">\n",
       "  <thead>\n",
       "    <tr style=\"text-align: right;\">\n",
       "      <th></th>\n",
       "      <th>date</th>\n",
       "      <th>station</th>\n",
       "      <th>linename</th>\n",
       "      <th>entries</th>\n",
       "      <th>exits</th>\n",
       "      <th>real_entries</th>\n",
       "      <th>real_exits</th>\n",
       "      <th>people_flow</th>\n",
       "    </tr>\n",
       "  </thead>\n",
       "  <tbody>\n",
       "    <tr>\n",
       "      <th>0</th>\n",
       "      <td>2010-04-17</td>\n",
       "      <td>1 AVE</td>\n",
       "      <td>L</td>\n",
       "      <td>265071111.0</td>\n",
       "      <td>224481314.0</td>\n",
       "      <td>8179.0</td>\n",
       "      <td>9088.0</td>\n",
       "      <td>17267.0</td>\n",
       "    </tr>\n",
       "    <tr>\n",
       "      <th>1</th>\n",
       "      <td>2010-04-17</td>\n",
       "      <td>103 ST</td>\n",
       "      <td>1</td>\n",
       "      <td>195542531.0</td>\n",
       "      <td>106410762.0</td>\n",
       "      <td>6570.0</td>\n",
       "      <td>2408.0</td>\n",
       "      <td>8978.0</td>\n",
       "    </tr>\n",
       "    <tr>\n",
       "      <th>2</th>\n",
       "      <td>2010-04-17</td>\n",
       "      <td>103 ST</td>\n",
       "      <td>6</td>\n",
       "      <td>144693237.0</td>\n",
       "      <td>150159494.0</td>\n",
       "      <td>6740.0</td>\n",
       "      <td>5891.0</td>\n",
       "      <td>12631.0</td>\n",
       "    </tr>\n",
       "  </tbody>\n",
       "</table>\n",
       "</div>"
      ],
      "text/plain": [
       "         date station linename      entries        exits  real_entries  \\\n",
       "0  2010-04-17   1 AVE        L  265071111.0  224481314.0        8179.0   \n",
       "1  2010-04-17  103 ST        1  195542531.0  106410762.0        6570.0   \n",
       "2  2010-04-17  103 ST        6  144693237.0  150159494.0        6740.0   \n",
       "\n",
       "   real_exits  people_flow  \n",
       "0      9088.0      17267.0  \n",
       "1      2408.0       8978.0  \n",
       "2      5891.0      12631.0  "
      ]
     },
     "execution_count": 12,
     "metadata": {},
     "output_type": "execute_result"
    }
   ],
   "source": [
    "#consolidating data by date, station and line\n",
    "#dropping time column - we won't need it anymore\n",
    "df_2010 = df_2010.drop(columns=\"time\", axis=1)\n",
    "\n",
    "#consolidating\n",
    "df_2010 = pd.DataFrame(df_2010.groupby([\"date\", \"station\", \"linename\"]).sum(numeric_only=True))\n",
    "df_2010 = df_2010.reset_index()\n",
    "df_2010.head(3)"
   ]
  },
  {
   "cell_type": "code",
   "execution_count": 13,
   "id": "589acdcd",
   "metadata": {},
   "outputs": [
    {
     "data": {
      "text/plain": [
       "(116692, 8)"
      ]
     },
     "execution_count": 13,
     "metadata": {},
     "output_type": "execute_result"
    }
   ],
   "source": [
    "#checking final shape \n",
    "df_2010.shape"
   ]
  },
  {
   "cell_type": "markdown",
   "id": "03f794ac",
   "metadata": {},
   "source": [
    "### Treating the next CSVs\n",
    "For a matter of convenience to make our process of copy and paste easier, we are going to put all the previous transformations in a cell per csv."
   ]
  },
  {
   "cell_type": "markdown",
   "id": "9160fd41",
   "metadata": {},
   "source": [
    "### 2011 csv data preparation"
   ]
  },
  {
   "cell_type": "code",
   "execution_count": 15,
   "id": "9932bf0a",
   "metadata": {},
   "outputs": [
    {
     "data": {
      "text/html": [
       "<div>\n",
       "<style scoped>\n",
       "    .dataframe tbody tr th:only-of-type {\n",
       "        vertical-align: middle;\n",
       "    }\n",
       "\n",
       "    .dataframe tbody tr th {\n",
       "        vertical-align: top;\n",
       "    }\n",
       "\n",
       "    .dataframe thead th {\n",
       "        text-align: right;\n",
       "    }\n",
       "</style>\n",
       "<table border=\"1\" class=\"dataframe\">\n",
       "  <thead>\n",
       "    <tr style=\"text-align: right;\">\n",
       "      <th></th>\n",
       "      <th>date</th>\n",
       "      <th>station</th>\n",
       "      <th>linename</th>\n",
       "      <th>entries</th>\n",
       "      <th>exits</th>\n",
       "      <th>real_entries</th>\n",
       "      <th>real_exits</th>\n",
       "      <th>people_flow</th>\n",
       "    </tr>\n",
       "  </thead>\n",
       "  <tbody>\n",
       "    <tr>\n",
       "      <th>0</th>\n",
       "      <td>2011-01-01</td>\n",
       "      <td>1 AVE</td>\n",
       "      <td>L</td>\n",
       "      <td>232541330.0</td>\n",
       "      <td>199821272.0</td>\n",
       "      <td>14349.0</td>\n",
       "      <td>16457.0</td>\n",
       "      <td>30806.0</td>\n",
       "    </tr>\n",
       "    <tr>\n",
       "      <th>1</th>\n",
       "      <td>2011-01-01</td>\n",
       "      <td>103 ST</td>\n",
       "      <td>1</td>\n",
       "      <td>288716535.0</td>\n",
       "      <td>152920510.0</td>\n",
       "      <td>7663.0</td>\n",
       "      <td>3139.0</td>\n",
       "      <td>10802.0</td>\n",
       "    </tr>\n",
       "    <tr>\n",
       "      <th>2</th>\n",
       "      <td>2011-01-01</td>\n",
       "      <td>103 ST</td>\n",
       "      <td>6</td>\n",
       "      <td>149153844.0</td>\n",
       "      <td>198109668.0</td>\n",
       "      <td>6312.0</td>\n",
       "      <td>5869.0</td>\n",
       "      <td>12181.0</td>\n",
       "    </tr>\n",
       "  </tbody>\n",
       "</table>\n",
       "</div>"
      ],
      "text/plain": [
       "         date station linename      entries        exits  real_entries  \\\n",
       "0  2011-01-01   1 AVE        L  232541330.0  199821272.0       14349.0   \n",
       "1  2011-01-01  103 ST        1  288716535.0  152920510.0        7663.0   \n",
       "2  2011-01-01  103 ST        6  149153844.0  198109668.0        6312.0   \n",
       "\n",
       "   real_exits  people_flow  \n",
       "0     16457.0      30806.0  \n",
       "1      3139.0      10802.0  \n",
       "2      5869.0      12181.0  "
      ]
     },
     "execution_count": 15,
     "metadata": {},
     "output_type": "execute_result"
    }
   ],
   "source": [
    "#loading 2011 csv\n",
    "df_2011 = pd.read_csv(\"../dados_desafio/csvs/2011.csv\")\n",
    "\n",
    "#dropping nas\n",
    "df_2011 = df_2011.dropna()\n",
    "\n",
    "#filtering our dataset\n",
    "df_2011 = df_2011[df_2011[\"entries\"] >= 0]\n",
    "df_2011 = df_2011[df_2011[\"exits\"] >= 0]\n",
    "\n",
    "#first variable: entries\n",
    "\n",
    "#defining some variables for our calculation\n",
    "ids = [\"ca\", \"station\", \"scp\", \"linename\"]\n",
    "variable = \"entries\"\n",
    "\n",
    "#creating the feature\n",
    "df_2011[\"real_entries\"] = df_2011.groupby(ids)[variable].diff()\n",
    "\n",
    "#second variable: exits\n",
    "\n",
    "#defining some variables for our calculation\n",
    "ids = [\"ca\", \"station\", \"scp\", \"linename\"]\n",
    "variable = \"exits\"\n",
    "\n",
    "#creating the feature\n",
    "df_2011[\"real_exits\"] = df_2011.groupby(ids)[variable].diff()\n",
    "\n",
    "#the function diff() generates missing values for the first rows.\n",
    "#As these first rows are our start point, we will fill the new columns missing values with 0.\n",
    "df_2011[\"real_entries\"] = df_2011[\"real_entries\"].fillna(0)\n",
    "df_2011[\"real_exits\"] = df_2011[\"real_exits\"].fillna(0)\n",
    "\n",
    "#creating our target column\n",
    "df_2011[\"people_flow\"] = df_2011[\"real_entries\"] + df_2011[\"real_exits\"]\n",
    "df_2011[\"people_flow\"] = df_2011[\"people_flow\"].round(2)\n",
    "\n",
    "#dropping what we defined as outliers\n",
    "df_2011 = df_2011[(df_2011[\"people_flow\"]<50000)&(df_2011[\"people_flow\"]>=0)]\n",
    "\n",
    "#converting time to datetime\n",
    "df_2011[\"time\"] = pd.to_datetime(df_2011[\"time\"], format=\"%Y-%m-%d %H:%M:%S\")\n",
    "\n",
    "#extracting only date\n",
    "df_2011[\"date\"] = df_2011[\"time\"].dt.date\n",
    "\n",
    "#consolidating data by date, station and line\n",
    "#dropping time column - we won't need it anymore\n",
    "df_2011 = df_2011.drop(columns=\"time\", axis=1)\n",
    "\n",
    "#consolidating\n",
    "df_2011 = pd.DataFrame(df_2011.groupby([\"date\", \"station\", \"linename\"]).sum(numeric_only=True))\n",
    "df_2011 = df_2011.reset_index()\n",
    "df_2011.head(3)"
   ]
  },
  {
   "cell_type": "code",
   "execution_count": 16,
   "id": "000eadc0",
   "metadata": {},
   "outputs": [
    {
     "data": {
      "text/plain": [
       "(172598, 8)"
      ]
     },
     "execution_count": 16,
     "metadata": {},
     "output_type": "execute_result"
    }
   ],
   "source": [
    "#checking final shape\n",
    "df_2011.shape"
   ]
  },
  {
   "cell_type": "markdown",
   "id": "0c07a498",
   "metadata": {},
   "source": [
    "### 2012 csv data processing"
   ]
  },
  {
   "cell_type": "code",
   "execution_count": 17,
   "id": "d3a4ff9a",
   "metadata": {},
   "outputs": [
    {
     "data": {
      "text/html": [
       "<div>\n",
       "<style scoped>\n",
       "    .dataframe tbody tr th:only-of-type {\n",
       "        vertical-align: middle;\n",
       "    }\n",
       "\n",
       "    .dataframe tbody tr th {\n",
       "        vertical-align: top;\n",
       "    }\n",
       "\n",
       "    .dataframe thead th {\n",
       "        text-align: right;\n",
       "    }\n",
       "</style>\n",
       "<table border=\"1\" class=\"dataframe\">\n",
       "  <thead>\n",
       "    <tr style=\"text-align: right;\">\n",
       "      <th></th>\n",
       "      <th>date</th>\n",
       "      <th>station</th>\n",
       "      <th>linename</th>\n",
       "      <th>entries</th>\n",
       "      <th>exits</th>\n",
       "      <th>real_entries</th>\n",
       "      <th>real_exits</th>\n",
       "      <th>people_flow</th>\n",
       "    </tr>\n",
       "  </thead>\n",
       "  <tbody>\n",
       "    <tr>\n",
       "      <th>0</th>\n",
       "      <td>2012-01-01</td>\n",
       "      <td>1 AVE</td>\n",
       "      <td>L</td>\n",
       "      <td>281498701.0</td>\n",
       "      <td>254021896.0</td>\n",
       "      <td>14761.0</td>\n",
       "      <td>17372.0</td>\n",
       "      <td>32133.0</td>\n",
       "    </tr>\n",
       "    <tr>\n",
       "      <th>1</th>\n",
       "      <td>2012-01-01</td>\n",
       "      <td>103 ST</td>\n",
       "      <td>1</td>\n",
       "      <td>305042196.0</td>\n",
       "      <td>156652274.0</td>\n",
       "      <td>7445.0</td>\n",
       "      <td>3271.0</td>\n",
       "      <td>10716.0</td>\n",
       "    </tr>\n",
       "    <tr>\n",
       "      <th>2</th>\n",
       "      <td>2012-01-01</td>\n",
       "      <td>103 ST</td>\n",
       "      <td>6</td>\n",
       "      <td>180839175.0</td>\n",
       "      <td>229247447.0</td>\n",
       "      <td>6113.0</td>\n",
       "      <td>5743.0</td>\n",
       "      <td>11856.0</td>\n",
       "    </tr>\n",
       "  </tbody>\n",
       "</table>\n",
       "</div>"
      ],
      "text/plain": [
       "         date station linename      entries        exits  real_entries  \\\n",
       "0  2012-01-01   1 AVE        L  281498701.0  254021896.0       14761.0   \n",
       "1  2012-01-01  103 ST        1  305042196.0  156652274.0        7445.0   \n",
       "2  2012-01-01  103 ST        6  180839175.0  229247447.0        6113.0   \n",
       "\n",
       "   real_exits  people_flow  \n",
       "0     17372.0      32133.0  \n",
       "1      3271.0      10716.0  \n",
       "2      5743.0      11856.0  "
      ]
     },
     "execution_count": 17,
     "metadata": {},
     "output_type": "execute_result"
    }
   ],
   "source": [
    "#loading 2012 csv\n",
    "df_2012 = pd.read_csv(\"../dados_desafio/csvs/2012.csv\")\n",
    "\n",
    "#dropping nas\n",
    "df_2012 = df_2012.dropna()\n",
    "\n",
    "#filtering our dataset\n",
    "df_2012 = df_2012[df_2012[\"entries\"] >= 0]\n",
    "df_2012 = df_2012[df_2012[\"exits\"] >= 0]\n",
    "\n",
    "#first variable: entries\n",
    "\n",
    "#defining some variables for our calculation\n",
    "ids = [\"ca\", \"station\", \"scp\", \"linename\"]\n",
    "variable = \"entries\"\n",
    "\n",
    "#creating the feature\n",
    "df_2012[\"real_entries\"] = df_2012.groupby(ids)[variable].diff()\n",
    "\n",
    "#second variable: exits\n",
    "\n",
    "#defining some variables for our calculation\n",
    "ids = [\"ca\", \"station\", \"scp\", \"linename\"]\n",
    "variable = \"exits\"\n",
    "\n",
    "#creating the feature\n",
    "df_2012[\"real_exits\"] = df_2012.groupby(ids)[variable].diff()\n",
    "\n",
    "#the function diff() generates missing values for the first rows.\n",
    "#As these first rows are our start point, we will fill the new columns missing values with 0.\n",
    "df_2012[\"real_entries\"] = df_2012[\"real_entries\"].fillna(0)\n",
    "df_2012[\"real_exits\"] = df_2012[\"real_exits\"].fillna(0)\n",
    "\n",
    "#creating our target column\n",
    "df_2012[\"people_flow\"] = df_2012[\"real_entries\"] + df_2012[\"real_exits\"]\n",
    "df_2012[\"people_flow\"] = df_2012[\"people_flow\"].round(2)\n",
    "\n",
    "#dropping what we defined as outliers\n",
    "df_2012 = df_2012[(df_2012[\"people_flow\"]<50000)&(df_2012[\"people_flow\"]>=0)]\n",
    "\n",
    "#converting time to datetime\n",
    "df_2012[\"time\"] = pd.to_datetime(df_2012[\"time\"], format=\"%Y-%m-%d %H:%M:%S\")\n",
    "\n",
    "#extracting only date\n",
    "df_2012[\"date\"] = df_2012[\"time\"].dt.date\n",
    "\n",
    "#consolidating data by date, station and line\n",
    "#dropping time column - we won't need it anymore\n",
    "df_2012 = df_2012.drop(columns=\"time\", axis=1)\n",
    "\n",
    "#consolidating\n",
    "df_2012 = pd.DataFrame(df_2012.groupby([\"date\", \"station\", \"linename\"]).sum(numeric_only=True))\n",
    "df_2012 = df_2012.reset_index()\n",
    "df_2012.head(3)"
   ]
  },
  {
   "cell_type": "code",
   "execution_count": 18,
   "id": "240d46e7",
   "metadata": {},
   "outputs": [
    {
     "data": {
      "text/plain": [
       "(171884, 8)"
      ]
     },
     "execution_count": 18,
     "metadata": {},
     "output_type": "execute_result"
    }
   ],
   "source": [
    "#checking final shape\n",
    "df_2012.shape"
   ]
  },
  {
   "cell_type": "markdown",
   "id": "d2d72c6d",
   "metadata": {},
   "source": [
    "### 2013 csv data processing"
   ]
  },
  {
   "cell_type": "code",
   "execution_count": 19,
   "id": "6453cbef",
   "metadata": {},
   "outputs": [
    {
     "data": {
      "text/html": [
       "<div>\n",
       "<style scoped>\n",
       "    .dataframe tbody tr th:only-of-type {\n",
       "        vertical-align: middle;\n",
       "    }\n",
       "\n",
       "    .dataframe tbody tr th {\n",
       "        vertical-align: top;\n",
       "    }\n",
       "\n",
       "    .dataframe thead th {\n",
       "        text-align: right;\n",
       "    }\n",
       "</style>\n",
       "<table border=\"1\" class=\"dataframe\">\n",
       "  <thead>\n",
       "    <tr style=\"text-align: right;\">\n",
       "      <th></th>\n",
       "      <th>date</th>\n",
       "      <th>station</th>\n",
       "      <th>linename</th>\n",
       "      <th>entries</th>\n",
       "      <th>exits</th>\n",
       "      <th>real_entries</th>\n",
       "      <th>real_exits</th>\n",
       "      <th>people_flow</th>\n",
       "    </tr>\n",
       "  </thead>\n",
       "  <tbody>\n",
       "    <tr>\n",
       "      <th>0</th>\n",
       "      <td>2013-01-01</td>\n",
       "      <td>1 AVE</td>\n",
       "      <td>L</td>\n",
       "      <td>279170137.0</td>\n",
       "      <td>271995465.0</td>\n",
       "      <td>15674.0</td>\n",
       "      <td>17456.0</td>\n",
       "      <td>33130.0</td>\n",
       "    </tr>\n",
       "    <tr>\n",
       "      <th>1</th>\n",
       "      <td>2013-01-01</td>\n",
       "      <td>103 ST</td>\n",
       "      <td>1</td>\n",
       "      <td>333864023.0</td>\n",
       "      <td>169558842.0</td>\n",
       "      <td>7660.0</td>\n",
       "      <td>3566.0</td>\n",
       "      <td>11226.0</td>\n",
       "    </tr>\n",
       "    <tr>\n",
       "      <th>2</th>\n",
       "      <td>2013-01-01</td>\n",
       "      <td>103 ST</td>\n",
       "      <td>6</td>\n",
       "      <td>167932923.0</td>\n",
       "      <td>215201331.0</td>\n",
       "      <td>6281.0</td>\n",
       "      <td>5690.0</td>\n",
       "      <td>11971.0</td>\n",
       "    </tr>\n",
       "  </tbody>\n",
       "</table>\n",
       "</div>"
      ],
      "text/plain": [
       "         date station linename      entries        exits  real_entries  \\\n",
       "0  2013-01-01   1 AVE        L  279170137.0  271995465.0       15674.0   \n",
       "1  2013-01-01  103 ST        1  333864023.0  169558842.0        7660.0   \n",
       "2  2013-01-01  103 ST        6  167932923.0  215201331.0        6281.0   \n",
       "\n",
       "   real_exits  people_flow  \n",
       "0     17456.0      33130.0  \n",
       "1      3566.0      11226.0  \n",
       "2      5690.0      11971.0  "
      ]
     },
     "execution_count": 19,
     "metadata": {},
     "output_type": "execute_result"
    }
   ],
   "source": [
    "#loading 2013 csv\n",
    "df_2013 = pd.read_csv(\"../dados_desafio/csvs/2013.csv\")\n",
    "\n",
    "#dropping nas\n",
    "df_2013 = df_2013.dropna()\n",
    "\n",
    "#filtering our dataset\n",
    "df_2013 = df_2013[df_2013[\"entries\"] >= 0]\n",
    "df_2013 = df_2013[df_2013[\"exits\"] >= 0]\n",
    "\n",
    "#first variable: entries\n",
    "\n",
    "#defining some variables for our calculation\n",
    "ids = [\"ca\", \"station\", \"scp\", \"linename\"]\n",
    "variable = \"entries\"\n",
    "\n",
    "#creating the feature\n",
    "df_2013[\"real_entries\"] = df_2013.groupby(ids)[variable].diff()\n",
    "\n",
    "#second variable: exits\n",
    "\n",
    "#defining some variables for our calculation\n",
    "ids = [\"ca\", \"station\", \"scp\", \"linename\"]\n",
    "variable = \"exits\"\n",
    "\n",
    "#creating the feature\n",
    "df_2013[\"real_exits\"] = df_2013.groupby(ids)[variable].diff()\n",
    "\n",
    "#the function diff() generates missing values for the first rows.\n",
    "#As these first rows are our start point, we will fill the new columns missing values with 0.\n",
    "df_2013[\"real_entries\"] = df_2013[\"real_entries\"].fillna(0)\n",
    "df_2013[\"real_exits\"] = df_2013[\"real_exits\"].fillna(0)\n",
    "\n",
    "#creating our target column\n",
    "df_2013[\"people_flow\"] = df_2013[\"real_entries\"] + df_2013[\"real_exits\"]\n",
    "df_2013[\"people_flow\"] = df_2013[\"people_flow\"].round(2)\n",
    "\n",
    "#dropping what we defined as outliers\n",
    "df_2013 = df_2013[(df_2013[\"people_flow\"]<50000)&(df_2013[\"people_flow\"]>=0)]\n",
    "\n",
    "#converting time to datetime\n",
    "df_2013[\"time\"] = pd.to_datetime(df_2013[\"time\"], format=\"%Y-%m-%d %H:%M:%S\")\n",
    "\n",
    "#extracting only date\n",
    "df_2013[\"date\"] = df_2013[\"time\"].dt.date\n",
    "\n",
    "#consolidating data by date, station and line\n",
    "#dropping time column - we won't need it anymore\n",
    "df_2013 = df_2013.drop(columns=\"time\", axis=1)\n",
    "\n",
    "#consolidating\n",
    "df_2013 = pd.DataFrame(df_2013.groupby([\"date\", \"station\", \"linename\"]).sum(numeric_only=True))\n",
    "df_2013 = df_2013.reset_index()\n",
    "df_2013.head(3)"
   ]
  },
  {
   "cell_type": "code",
   "execution_count": 20,
   "id": "399b50b3",
   "metadata": {},
   "outputs": [
    {
     "data": {
      "text/plain": [
       "(172204, 8)"
      ]
     },
     "execution_count": 20,
     "metadata": {},
     "output_type": "execute_result"
    }
   ],
   "source": [
    "#checking final shape\n",
    "df_2013.shape"
   ]
  },
  {
   "cell_type": "markdown",
   "id": "d65d5dc6",
   "metadata": {},
   "source": [
    "### 2014 csv data processing"
   ]
  },
  {
   "cell_type": "code",
   "execution_count": 21,
   "id": "39b5bce9",
   "metadata": {},
   "outputs": [
    {
     "data": {
      "text/html": [
       "<div>\n",
       "<style scoped>\n",
       "    .dataframe tbody tr th:only-of-type {\n",
       "        vertical-align: middle;\n",
       "    }\n",
       "\n",
       "    .dataframe tbody tr th {\n",
       "        vertical-align: top;\n",
       "    }\n",
       "\n",
       "    .dataframe thead th {\n",
       "        text-align: right;\n",
       "    }\n",
       "</style>\n",
       "<table border=\"1\" class=\"dataframe\">\n",
       "  <thead>\n",
       "    <tr style=\"text-align: right;\">\n",
       "      <th></th>\n",
       "      <th>date</th>\n",
       "      <th>station</th>\n",
       "      <th>linename</th>\n",
       "      <th>entries</th>\n",
       "      <th>exits</th>\n",
       "      <th>real_entries</th>\n",
       "      <th>real_exits</th>\n",
       "      <th>people_flow</th>\n",
       "    </tr>\n",
       "  </thead>\n",
       "  <tbody>\n",
       "    <tr>\n",
       "      <th>0</th>\n",
       "      <td>2014-01-01</td>\n",
       "      <td>1 AVE</td>\n",
       "      <td>L</td>\n",
       "      <td>215918570.0</td>\n",
       "      <td>297749126.0</td>\n",
       "      <td>14774.0</td>\n",
       "      <td>16478.0</td>\n",
       "      <td>31252.0</td>\n",
       "    </tr>\n",
       "    <tr>\n",
       "      <th>1</th>\n",
       "      <td>2014-01-01</td>\n",
       "      <td>103 ST</td>\n",
       "      <td>1</td>\n",
       "      <td>363084184.0</td>\n",
       "      <td>182503356.0</td>\n",
       "      <td>7388.0</td>\n",
       "      <td>3387.0</td>\n",
       "      <td>10775.0</td>\n",
       "    </tr>\n",
       "    <tr>\n",
       "      <th>2</th>\n",
       "      <td>2014-01-01</td>\n",
       "      <td>103 ST</td>\n",
       "      <td>6</td>\n",
       "      <td>200519792.0</td>\n",
       "      <td>244892979.0</td>\n",
       "      <td>6080.0</td>\n",
       "      <td>5765.0</td>\n",
       "      <td>11845.0</td>\n",
       "    </tr>\n",
       "  </tbody>\n",
       "</table>\n",
       "</div>"
      ],
      "text/plain": [
       "         date station linename      entries        exits  real_entries  \\\n",
       "0  2014-01-01   1 AVE        L  215918570.0  297749126.0       14774.0   \n",
       "1  2014-01-01  103 ST        1  363084184.0  182503356.0        7388.0   \n",
       "2  2014-01-01  103 ST        6  200519792.0  244892979.0        6080.0   \n",
       "\n",
       "   real_exits  people_flow  \n",
       "0     16478.0      31252.0  \n",
       "1      3387.0      10775.0  \n",
       "2      5765.0      11845.0  "
      ]
     },
     "execution_count": 21,
     "metadata": {},
     "output_type": "execute_result"
    }
   ],
   "source": [
    "#loading 2014 csv\n",
    "df_2014 = pd.read_csv(\"../dados_desafio/csvs/2014.csv\")\n",
    "\n",
    "#dropping nas\n",
    "df_2014 = df_2014.dropna()\n",
    "\n",
    "#filtering our dataset\n",
    "df_2014 = df_2014[df_2014[\"entries\"] >= 0]\n",
    "df_2014 = df_2014[df_2014[\"exits\"] >= 0]\n",
    "\n",
    "#first variable: entries\n",
    "\n",
    "#defining some variables for our calculation\n",
    "ids = [\"ca\", \"station\", \"scp\", \"linename\"]\n",
    "variable = \"entries\"\n",
    "\n",
    "#creating the feature\n",
    "df_2014[\"real_entries\"] = df_2014.groupby(ids)[variable].diff()\n",
    "\n",
    "#second variable: exits\n",
    "\n",
    "#defining some variables for our calculation\n",
    "ids = [\"ca\", \"station\", \"scp\", \"linename\"]\n",
    "variable = \"exits\"\n",
    "\n",
    "#creating the feature\n",
    "df_2014[\"real_exits\"] = df_2014.groupby(ids)[variable].diff()\n",
    "\n",
    "#the function diff() generates missing values for the first rows.\n",
    "#As these first rows are our start point, we will fill the new columns missing values with 0.\n",
    "df_2014[\"real_entries\"] = df_2014[\"real_entries\"].fillna(0)\n",
    "df_2014[\"real_exits\"] = df_2014[\"real_exits\"].fillna(0)\n",
    "\n",
    "#creating our target column\n",
    "df_2014[\"people_flow\"] = df_2014[\"real_entries\"] + df_2014[\"real_exits\"]\n",
    "df_2014[\"people_flow\"] = df_2014[\"people_flow\"].round(2)\n",
    "\n",
    "#dropping what we defined as outliers\n",
    "df_2014 = df_2014[(df_2014[\"people_flow\"]<50000)&(df_2014[\"people_flow\"]>=0)]\n",
    "\n",
    "#converting time to datetime\n",
    "df_2014[\"time\"] = pd.to_datetime(df_2014[\"time\"], format=\"%Y-%m-%d %H:%M:%S\")\n",
    "\n",
    "#extracting only date\n",
    "df_2014[\"date\"] = df_2014[\"time\"].dt.date\n",
    "\n",
    "#consolidating data by date, station and line\n",
    "#dropping time column - we won't need it anymore\n",
    "df_2014 = df_2014.drop(columns=\"time\", axis=1)\n",
    "\n",
    "#consolidating\n",
    "df_2014 = pd.DataFrame(df_2014.groupby([\"date\", \"station\", \"linename\"]).sum(numeric_only=True))\n",
    "df_2014 = df_2014.reset_index()\n",
    "df_2014.head(3)"
   ]
  },
  {
   "cell_type": "code",
   "execution_count": 22,
   "id": "40305082",
   "metadata": {},
   "outputs": [
    {
     "data": {
      "text/plain": [
       "(169078, 8)"
      ]
     },
     "execution_count": 22,
     "metadata": {},
     "output_type": "execute_result"
    }
   ],
   "source": [
    "#checking final shape\n",
    "df_2014.shape"
   ]
  },
  {
   "cell_type": "markdown",
   "id": "bd08e41a",
   "metadata": {},
   "source": [
    "### 2015 csv data loading"
   ]
  },
  {
   "cell_type": "code",
   "execution_count": 23,
   "id": "e3351446",
   "metadata": {},
   "outputs": [
    {
     "data": {
      "text/html": [
       "<div>\n",
       "<style scoped>\n",
       "    .dataframe tbody tr th:only-of-type {\n",
       "        vertical-align: middle;\n",
       "    }\n",
       "\n",
       "    .dataframe tbody tr th {\n",
       "        vertical-align: top;\n",
       "    }\n",
       "\n",
       "    .dataframe thead th {\n",
       "        text-align: right;\n",
       "    }\n",
       "</style>\n",
       "<table border=\"1\" class=\"dataframe\">\n",
       "  <thead>\n",
       "    <tr style=\"text-align: right;\">\n",
       "      <th></th>\n",
       "      <th>date</th>\n",
       "      <th>station</th>\n",
       "      <th>linename</th>\n",
       "      <th>entries</th>\n",
       "      <th>exits</th>\n",
       "      <th>real_entries</th>\n",
       "      <th>real_exits</th>\n",
       "      <th>people_flow</th>\n",
       "    </tr>\n",
       "  </thead>\n",
       "  <tbody>\n",
       "    <tr>\n",
       "      <th>0</th>\n",
       "      <td>2015-01-01</td>\n",
       "      <td>1 AVE</td>\n",
       "      <td>L</td>\n",
       "      <td>264795047.0</td>\n",
       "      <td>348842375.0</td>\n",
       "      <td>15768.0</td>\n",
       "      <td>16959.0</td>\n",
       "      <td>32727.0</td>\n",
       "    </tr>\n",
       "    <tr>\n",
       "      <th>1</th>\n",
       "      <td>2015-01-01</td>\n",
       "      <td>103 ST</td>\n",
       "      <td>1</td>\n",
       "      <td>356193791.0</td>\n",
       "      <td>184065692.0</td>\n",
       "      <td>7636.0</td>\n",
       "      <td>3250.0</td>\n",
       "      <td>10886.0</td>\n",
       "    </tr>\n",
       "    <tr>\n",
       "      <th>2</th>\n",
       "      <td>2015-01-01</td>\n",
       "      <td>103 ST</td>\n",
       "      <td>6</td>\n",
       "      <td>169024197.0</td>\n",
       "      <td>205598423.0</td>\n",
       "      <td>6048.0</td>\n",
       "      <td>4744.0</td>\n",
       "      <td>10792.0</td>\n",
       "    </tr>\n",
       "  </tbody>\n",
       "</table>\n",
       "</div>"
      ],
      "text/plain": [
       "         date station linename      entries        exits  real_entries  \\\n",
       "0  2015-01-01   1 AVE        L  264795047.0  348842375.0       15768.0   \n",
       "1  2015-01-01  103 ST        1  356193791.0  184065692.0        7636.0   \n",
       "2  2015-01-01  103 ST        6  169024197.0  205598423.0        6048.0   \n",
       "\n",
       "   real_exits  people_flow  \n",
       "0     16959.0      32727.0  \n",
       "1      3250.0      10886.0  \n",
       "2      4744.0      10792.0  "
      ]
     },
     "execution_count": 23,
     "metadata": {},
     "output_type": "execute_result"
    }
   ],
   "source": [
    "#loading 2015 csv\n",
    "df_2015 = pd.read_csv(\"../dados_desafio/csvs/2015.csv\")\n",
    "\n",
    "#dropping nas\n",
    "df_2015 = df_2015.dropna()\n",
    "\n",
    "#filtering our dataset\n",
    "df_2015 = df_2015[df_2015[\"entries\"] >= 0]\n",
    "df_2015 = df_2015[df_2015[\"exits\"] >= 0]\n",
    "\n",
    "#first variable: entries\n",
    "\n",
    "#defining some variables for our calculation\n",
    "ids = [\"ca\", \"station\", \"scp\", \"linename\"]\n",
    "variable = \"entries\"\n",
    "\n",
    "#creating the feature\n",
    "df_2015[\"real_entries\"] = df_2015.groupby(ids)[variable].diff()\n",
    "\n",
    "#second variable: exits\n",
    "\n",
    "#defining some variables for our calculation\n",
    "ids = [\"ca\", \"station\", \"scp\", \"linename\"]\n",
    "variable = \"exits\"\n",
    "\n",
    "#creating the feature\n",
    "df_2015[\"real_exits\"] = df_2015.groupby(ids)[variable].diff()\n",
    "\n",
    "#the function diff() generates missing values for the first rows.\n",
    "#As these first rows are our start point, we will fill the new columns missing values with 0.\n",
    "df_2015[\"real_entries\"] = df_2015[\"real_entries\"].fillna(0)\n",
    "df_2015[\"real_exits\"] = df_2015[\"real_exits\"].fillna(0)\n",
    "\n",
    "#creating our target column\n",
    "df_2015[\"people_flow\"] = df_2015[\"real_entries\"] + df_2015[\"real_exits\"]\n",
    "df_2015[\"people_flow\"] = df_2015[\"people_flow\"].round(2)\n",
    "\n",
    "#dropping what we defined as outliers\n",
    "df_2015 = df_2015[(df_2015[\"people_flow\"]<50000)&(df_2015[\"people_flow\"]>=0)]\n",
    "\n",
    "#converting time to datetime\n",
    "df_2015[\"time\"] = pd.to_datetime(df_2015[\"time\"], format=\"%Y-%m-%d %H:%M:%S\")\n",
    "\n",
    "#extracting only date\n",
    "df_2015[\"date\"] = df_2015[\"time\"].dt.date\n",
    "\n",
    "#consolidating data by date, station and line\n",
    "#dropping time column - we won't need it anymore\n",
    "df_2015 = df_2015.drop(columns=\"time\", axis=1)\n",
    "\n",
    "#consolidating\n",
    "df_2015 = pd.DataFrame(df_2015.groupby([\"date\", \"station\", \"linename\"]).sum(numeric_only=True))\n",
    "df_2015 = df_2015.reset_index()\n",
    "df_2015.head(3)"
   ]
  },
  {
   "cell_type": "code",
   "execution_count": 24,
   "id": "23d78a15",
   "metadata": {},
   "outputs": [
    {
     "data": {
      "text/plain": [
       "(172617, 8)"
      ]
     },
     "execution_count": 24,
     "metadata": {},
     "output_type": "execute_result"
    }
   ],
   "source": [
    "#checking final shape\n",
    "df_2015.shape"
   ]
  },
  {
   "cell_type": "markdown",
   "id": "583c70bd",
   "metadata": {},
   "source": [
    "### 2016 csv data processing"
   ]
  },
  {
   "cell_type": "code",
   "execution_count": 25,
   "id": "63452a4a",
   "metadata": {},
   "outputs": [
    {
     "data": {
      "text/html": [
       "<div>\n",
       "<style scoped>\n",
       "    .dataframe tbody tr th:only-of-type {\n",
       "        vertical-align: middle;\n",
       "    }\n",
       "\n",
       "    .dataframe tbody tr th {\n",
       "        vertical-align: top;\n",
       "    }\n",
       "\n",
       "    .dataframe thead th {\n",
       "        text-align: right;\n",
       "    }\n",
       "</style>\n",
       "<table border=\"1\" class=\"dataframe\">\n",
       "  <thead>\n",
       "    <tr style=\"text-align: right;\">\n",
       "      <th></th>\n",
       "      <th>date</th>\n",
       "      <th>station</th>\n",
       "      <th>linename</th>\n",
       "      <th>entries</th>\n",
       "      <th>exits</th>\n",
       "      <th>real_entries</th>\n",
       "      <th>real_exits</th>\n",
       "      <th>people_flow</th>\n",
       "    </tr>\n",
       "  </thead>\n",
       "  <tbody>\n",
       "    <tr>\n",
       "      <th>0</th>\n",
       "      <td>2016-01-01</td>\n",
       "      <td>1 AV</td>\n",
       "      <td>L</td>\n",
       "      <td>8.446645e+09</td>\n",
       "      <td>8.816053e+09</td>\n",
       "      <td>13952.0</td>\n",
       "      <td>14902.0</td>\n",
       "      <td>28854.0</td>\n",
       "    </tr>\n",
       "    <tr>\n",
       "      <th>1</th>\n",
       "      <td>2016-01-01</td>\n",
       "      <td>103 ST</td>\n",
       "      <td>1</td>\n",
       "      <td>3.818232e+08</td>\n",
       "      <td>1.959350e+08</td>\n",
       "      <td>7035.0</td>\n",
       "      <td>3194.0</td>\n",
       "      <td>10229.0</td>\n",
       "    </tr>\n",
       "    <tr>\n",
       "      <th>2</th>\n",
       "      <td>2016-01-01</td>\n",
       "      <td>103 ST</td>\n",
       "      <td>6</td>\n",
       "      <td>2.155538e+08</td>\n",
       "      <td>2.535317e+08</td>\n",
       "      <td>5904.0</td>\n",
       "      <td>5714.0</td>\n",
       "      <td>11618.0</td>\n",
       "    </tr>\n",
       "  </tbody>\n",
       "</table>\n",
       "</div>"
      ],
      "text/plain": [
       "         date station linename       entries         exits  real_entries  \\\n",
       "0  2016-01-01    1 AV        L  8.446645e+09  8.816053e+09       13952.0   \n",
       "1  2016-01-01  103 ST        1  3.818232e+08  1.959350e+08        7035.0   \n",
       "2  2016-01-01  103 ST        6  2.155538e+08  2.535317e+08        5904.0   \n",
       "\n",
       "   real_exits  people_flow  \n",
       "0     14902.0      28854.0  \n",
       "1      3194.0      10229.0  \n",
       "2      5714.0      11618.0  "
      ]
     },
     "execution_count": 25,
     "metadata": {},
     "output_type": "execute_result"
    }
   ],
   "source": [
    "#loading 2016 csv\n",
    "df_2016 = pd.read_csv(\"../dados_desafio/csvs/2016.csv\")\n",
    "\n",
    "#dropping nas\n",
    "df_2016 = df_2016.dropna()\n",
    "\n",
    "#filtering our dataset\n",
    "df_2016 = df_2016[df_2016[\"entries\"] >= 0]\n",
    "df_2016 = df_2016[df_2016[\"exits\"] >= 0]\n",
    "\n",
    "#first variable: entries\n",
    "\n",
    "#defining some variables for our calculation\n",
    "ids = [\"ca\", \"station\", \"scp\", \"linename\"]\n",
    "variable = \"entries\"\n",
    "\n",
    "#creating the feature\n",
    "df_2016[\"real_entries\"] = df_2016.groupby(ids)[variable].diff()\n",
    "\n",
    "#second variable: exits\n",
    "\n",
    "#defining some variables for our calculation\n",
    "ids = [\"ca\", \"station\", \"scp\", \"linename\"]\n",
    "variable = \"exits\"\n",
    "\n",
    "#creating the feature\n",
    "df_2016[\"real_exits\"] = df_2016.groupby(ids)[variable].diff()\n",
    "\n",
    "#the function diff() generates missing values for the first rows.\n",
    "#As these first rows are our start point, we will fill the new columns missing values with 0.\n",
    "df_2016[\"real_entries\"] = df_2016[\"real_entries\"].fillna(0)\n",
    "df_2016[\"real_exits\"] = df_2016[\"real_exits\"].fillna(0)\n",
    "\n",
    "#creating our target column\n",
    "df_2016[\"people_flow\"] = df_2016[\"real_entries\"] + df_2016[\"real_exits\"]\n",
    "df_2016[\"people_flow\"] = df_2016[\"people_flow\"].round(2)\n",
    "\n",
    "#dropping what we defined as outliers\n",
    "df_2016 = df_2016[(df_2016[\"people_flow\"]<50000)&(df_2016[\"people_flow\"]>=0)]\n",
    "\n",
    "#converting time to datetime\n",
    "df_2016[\"time\"] = pd.to_datetime(df_2016[\"time\"], format=\"%Y-%m-%d %H:%M:%S\")\n",
    "\n",
    "#extracting only date\n",
    "df_2016[\"date\"] = df_2016[\"time\"].dt.date\n",
    "\n",
    "#consolidating data by date, station and line\n",
    "#dropping time column - we won't need it anymore\n",
    "df_2016 = df_2016.drop(columns=\"time\", axis=1)\n",
    "\n",
    "#consolidating\n",
    "df_2016 = pd.DataFrame(df_2016.groupby([\"date\", \"station\", \"linename\"]).sum(numeric_only=True))\n",
    "df_2016 = df_2016.reset_index()\n",
    "df_2016.head(3)"
   ]
  },
  {
   "cell_type": "code",
   "execution_count": 26,
   "id": "0b9b9e0a",
   "metadata": {},
   "outputs": [
    {
     "data": {
      "text/plain": [
       "(172041, 8)"
      ]
     },
     "execution_count": 26,
     "metadata": {},
     "output_type": "execute_result"
    }
   ],
   "source": [
    "#checking final shape\n",
    "df_2016.shape"
   ]
  },
  {
   "cell_type": "markdown",
   "id": "16608f67",
   "metadata": {},
   "source": [
    "### 2017 csv data processing"
   ]
  },
  {
   "cell_type": "code",
   "execution_count": 27,
   "id": "5bd7f6ca",
   "metadata": {},
   "outputs": [
    {
     "data": {
      "text/html": [
       "<div>\n",
       "<style scoped>\n",
       "    .dataframe tbody tr th:only-of-type {\n",
       "        vertical-align: middle;\n",
       "    }\n",
       "\n",
       "    .dataframe tbody tr th {\n",
       "        vertical-align: top;\n",
       "    }\n",
       "\n",
       "    .dataframe thead th {\n",
       "        text-align: right;\n",
       "    }\n",
       "</style>\n",
       "<table border=\"1\" class=\"dataframe\">\n",
       "  <thead>\n",
       "    <tr style=\"text-align: right;\">\n",
       "      <th></th>\n",
       "      <th>date</th>\n",
       "      <th>station</th>\n",
       "      <th>linename</th>\n",
       "      <th>entries</th>\n",
       "      <th>exits</th>\n",
       "      <th>real_entries</th>\n",
       "      <th>real_exits</th>\n",
       "      <th>people_flow</th>\n",
       "    </tr>\n",
       "  </thead>\n",
       "  <tbody>\n",
       "    <tr>\n",
       "      <th>0</th>\n",
       "      <td>2017-01-01</td>\n",
       "      <td>1 AV</td>\n",
       "      <td>L</td>\n",
       "      <td>8.488928e+09</td>\n",
       "      <td>8.807664e+09</td>\n",
       "      <td>11467.0</td>\n",
       "      <td>12935.0</td>\n",
       "      <td>24402.0</td>\n",
       "    </tr>\n",
       "    <tr>\n",
       "      <th>1</th>\n",
       "      <td>2017-01-01</td>\n",
       "      <td>103 ST</td>\n",
       "      <td>1</td>\n",
       "      <td>4.076059e+08</td>\n",
       "      <td>2.081395e+08</td>\n",
       "      <td>6560.0</td>\n",
       "      <td>3196.0</td>\n",
       "      <td>9756.0</td>\n",
       "    </tr>\n",
       "    <tr>\n",
       "      <th>2</th>\n",
       "      <td>2017-01-01</td>\n",
       "      <td>103 ST</td>\n",
       "      <td>6</td>\n",
       "      <td>3.950285e+08</td>\n",
       "      <td>3.247158e+09</td>\n",
       "      <td>5503.0</td>\n",
       "      <td>4764.0</td>\n",
       "      <td>10267.0</td>\n",
       "    </tr>\n",
       "  </tbody>\n",
       "</table>\n",
       "</div>"
      ],
      "text/plain": [
       "         date station linename       entries         exits  real_entries  \\\n",
       "0  2017-01-01    1 AV        L  8.488928e+09  8.807664e+09       11467.0   \n",
       "1  2017-01-01  103 ST        1  4.076059e+08  2.081395e+08        6560.0   \n",
       "2  2017-01-01  103 ST        6  3.950285e+08  3.247158e+09        5503.0   \n",
       "\n",
       "   real_exits  people_flow  \n",
       "0     12935.0      24402.0  \n",
       "1      3196.0       9756.0  \n",
       "2      4764.0      10267.0  "
      ]
     },
     "execution_count": 27,
     "metadata": {},
     "output_type": "execute_result"
    }
   ],
   "source": [
    "#loading 2017 csv\n",
    "df_2017 = pd.read_csv(\"../dados_desafio/csvs/2017.csv\")\n",
    "\n",
    "#dropping nas\n",
    "df_2017 = df_2017.dropna()\n",
    "\n",
    "#filtering our dataset\n",
    "df_2017 = df_2017[df_2017[\"entries\"] >= 0]\n",
    "df_2017 = df_2017[df_2017[\"exits\"] >= 0]\n",
    "\n",
    "#first variable: entries\n",
    "\n",
    "#defining some variables for our calculation\n",
    "ids = [\"ca\", \"station\", \"scp\", \"linename\"]\n",
    "variable = \"entries\"\n",
    "\n",
    "#creating the feature\n",
    "df_2017[\"real_entries\"] = df_2017.groupby(ids)[variable].diff()\n",
    "\n",
    "#second variable: exits\n",
    "\n",
    "#defining some variables for our calculation\n",
    "ids = [\"ca\", \"station\", \"scp\", \"linename\"]\n",
    "variable = \"exits\"\n",
    "\n",
    "#creating the feature\n",
    "df_2017[\"real_exits\"] = df_2017.groupby(ids)[variable].diff()\n",
    "\n",
    "#the function diff() generates missing values for the first rows.\n",
    "#As these first rows are our start point, we will fill the new columns missing values with 0.\n",
    "df_2017[\"real_entries\"] = df_2017[\"real_entries\"].fillna(0)\n",
    "df_2017[\"real_exits\"] = df_2017[\"real_exits\"].fillna(0)\n",
    "\n",
    "#creating our target column\n",
    "df_2017[\"people_flow\"] = df_2017[\"real_entries\"] + df_2017[\"real_exits\"]\n",
    "df_2017[\"people_flow\"] = df_2017[\"people_flow\"].round(2)\n",
    "\n",
    "#dropping what we defined as outliers\n",
    "df_2017 = df_2017[(df_2017[\"people_flow\"]<50000)&(df_2017[\"people_flow\"]>=0)]\n",
    "\n",
    "#converting time to datetime\n",
    "df_2017[\"time\"] = pd.to_datetime(df_2017[\"time\"], format=\"%Y-%m-%d %H:%M:%S\")\n",
    "\n",
    "#extracting only date\n",
    "df_2017[\"date\"] = df_2017[\"time\"].dt.date\n",
    "\n",
    "#consolidating data by date, station and line\n",
    "#dropping time column - we won't need it anymore\n",
    "df_2017 = df_2017.drop(columns=\"time\", axis=1)\n",
    "\n",
    "#consolidating\n",
    "df_2017 = pd.DataFrame(df_2017.groupby([\"date\", \"station\", \"linename\"]).sum(numeric_only=True))\n",
    "df_2017 = df_2017.reset_index()\n",
    "df_2017.head(3)"
   ]
  },
  {
   "cell_type": "code",
   "execution_count": 28,
   "id": "aad23f94",
   "metadata": {},
   "outputs": [
    {
     "data": {
      "text/plain": [
       "(126039, 8)"
      ]
     },
     "execution_count": 28,
     "metadata": {},
     "output_type": "execute_result"
    }
   ],
   "source": [
    "#checking final shape\n",
    "df_2017.shape"
   ]
  },
  {
   "cell_type": "markdown",
   "id": "25d87769",
   "metadata": {},
   "source": [
    "### Concatenating all dataframes in a final dataframe"
   ]
  },
  {
   "cell_type": "code",
   "execution_count": 29,
   "id": "f0e93ffd",
   "metadata": {},
   "outputs": [],
   "source": [
    "df_final = pd.concat([df_2010, df_2011])\n",
    "df_final = pd.concat([df_final, df_2012])\n",
    "df_final = pd.concat([df_final, df_2013])\n",
    "df_final = pd.concat([df_final, df_2014])\n",
    "df_final = pd.concat([df_final, df_2015])\n",
    "df_final = pd.concat([df_final, df_2016])\n",
    "df_final = pd.concat([df_final, df_2017])"
   ]
  },
  {
   "cell_type": "code",
   "execution_count": 30,
   "id": "2c7c5d73",
   "metadata": {},
   "outputs": [
    {
     "data": {
      "text/plain": [
       "(1273153, 8)"
      ]
     },
     "execution_count": 30,
     "metadata": {},
     "output_type": "execute_result"
    }
   ],
   "source": [
    "#checking final shape\n",
    "df_final.shape"
   ]
  },
  {
   "cell_type": "markdown",
   "id": "2c287f11",
   "metadata": {},
   "source": [
    "Now we have our dataset ready to start our step of building up our machine learning model."
   ]
  },
  {
   "cell_type": "code",
   "execution_count": 31,
   "id": "196d0758",
   "metadata": {},
   "outputs": [],
   "source": [
    "#saving our prepared dataset\n",
    "df_final.to_csv(\"../dados_desafio/prepared_data.csv\", index=False)"
   ]
  },
  {
   "cell_type": "markdown",
   "id": "8f0c7ae7",
   "metadata": {},
   "source": [
    "### Analyzing the annual data"
   ]
  },
  {
   "cell_type": "code",
   "execution_count": 3,
   "id": "c77757a6",
   "metadata": {},
   "outputs": [
    {
     "data": {
      "text/html": [
       "<div>\n",
       "<style scoped>\n",
       "    .dataframe tbody tr th:only-of-type {\n",
       "        vertical-align: middle;\n",
       "    }\n",
       "\n",
       "    .dataframe tbody tr th {\n",
       "        vertical-align: top;\n",
       "    }\n",
       "\n",
       "    .dataframe thead th {\n",
       "        text-align: right;\n",
       "    }\n",
       "</style>\n",
       "<table border=\"1\" class=\"dataframe\">\n",
       "  <thead>\n",
       "    <tr style=\"text-align: right;\">\n",
       "      <th></th>\n",
       "      <th>date</th>\n",
       "      <th>station</th>\n",
       "      <th>linename</th>\n",
       "      <th>entries</th>\n",
       "      <th>exits</th>\n",
       "      <th>real_entries</th>\n",
       "      <th>real_exits</th>\n",
       "      <th>people_flow</th>\n",
       "    </tr>\n",
       "  </thead>\n",
       "  <tbody>\n",
       "    <tr>\n",
       "      <th>0</th>\n",
       "      <td>2010-04-17</td>\n",
       "      <td>1 AVE</td>\n",
       "      <td>L</td>\n",
       "      <td>265071111.0</td>\n",
       "      <td>224481314.0</td>\n",
       "      <td>8179.0</td>\n",
       "      <td>9088.0</td>\n",
       "      <td>17267.0</td>\n",
       "    </tr>\n",
       "    <tr>\n",
       "      <th>1</th>\n",
       "      <td>2010-04-17</td>\n",
       "      <td>103 ST</td>\n",
       "      <td>1</td>\n",
       "      <td>195542531.0</td>\n",
       "      <td>106410762.0</td>\n",
       "      <td>6570.0</td>\n",
       "      <td>2408.0</td>\n",
       "      <td>8978.0</td>\n",
       "    </tr>\n",
       "    <tr>\n",
       "      <th>2</th>\n",
       "      <td>2010-04-17</td>\n",
       "      <td>103 ST</td>\n",
       "      <td>6</td>\n",
       "      <td>144693237.0</td>\n",
       "      <td>150159494.0</td>\n",
       "      <td>6740.0</td>\n",
       "      <td>5891.0</td>\n",
       "      <td>12631.0</td>\n",
       "    </tr>\n",
       "  </tbody>\n",
       "</table>\n",
       "</div>"
      ],
      "text/plain": [
       "         date station linename      entries        exits  real_entries  \\\n",
       "0  2010-04-17   1 AVE        L  265071111.0  224481314.0        8179.0   \n",
       "1  2010-04-17  103 ST        1  195542531.0  106410762.0        6570.0   \n",
       "2  2010-04-17  103 ST        6  144693237.0  150159494.0        6740.0   \n",
       "\n",
       "   real_exits  people_flow  \n",
       "0      9088.0      17267.0  \n",
       "1      2408.0       8978.0  \n",
       "2      5891.0      12631.0  "
      ]
     },
     "execution_count": 3,
     "metadata": {},
     "output_type": "execute_result"
    }
   ],
   "source": [
    "#reading data\n",
    "data = pd.read_csv(\"../dados_desafio/prepared_data.csv\")\n",
    "data.head(3)"
   ]
  },
  {
   "cell_type": "code",
   "execution_count": 5,
   "id": "bec18790",
   "metadata": {},
   "outputs": [],
   "source": [
    "#creating year feature\n",
    "data[\"date\"] = pd.to_datetime(data[\"date\"], dayfirst=False)\n",
    "data[\"year\"] = data[\"date\"].dt.year"
   ]
  },
  {
   "cell_type": "code",
   "execution_count": 7,
   "id": "ae01c9e0",
   "metadata": {},
   "outputs": [
    {
     "data": {
      "text/plain": [
       "Text(0.5, 1.0, 'flow of people over years')"
      ]
     },
     "execution_count": 7,
     "metadata": {},
     "output_type": "execute_result"
    },
    {
     "data": {
      "image/png": "[encoded data removed]",
      "text/plain": [
       "<Figure size 1000x400 with 1 Axes>"
      ]
     },
     "metadata": {},
     "output_type": "display_data"
    }
   ],
   "source": [
    "#aggrouping data by year\n",
    "df_year = pd.DataFrame(data.groupby([\"year\"])[\"people_flow\"].sum().rename(\"total_flow\"))\n",
    "df_year = df_year.reset_index()\n",
    "\n",
    "#normalizing data\n",
    "max_value = df_year[\"total_flow\"].max()\n",
    "df_year[\"total_flow\"] = df_year[\"total_flow\"]/max_value\n",
    "\n",
    "#plotting\n",
    "plt.figure(figsize=(10, 4))\n",
    "sns.barplot(x=\"year\", y=\"total_flow\", hue=\"year\", data=df_year)\n",
    "plt.title(\"flow of people over years\")"
   ]
  },
  {
   "cell_type": "markdown",
   "id": "0312c335",
   "metadata": {},
   "source": [
    "It is a very similar amount of people flowing through the metro over the year, except for 2010 and 2017. What we need to know is if we have a whole year data in these two years."
   ]
  },
  {
   "cell_type": "code",
   "execution_count": 8,
   "id": "03067118",
   "metadata": {},
   "outputs": [
    {
     "data": {
      "text/plain": [
       "Timestamp('2010-04-17 00:00:00')"
      ]
     },
     "execution_count": 8,
     "metadata": {},
     "output_type": "execute_result"
    }
   ],
   "source": [
    "#min date value\n",
    "data[\"date\"].min()"
   ]
  },
  {
   "cell_type": "code",
   "execution_count": 9,
   "id": "2264b128",
   "metadata": {},
   "outputs": [
    {
     "data": {
      "text/plain": [
       "Timestamp('2017-09-23 00:00:00')"
      ]
     },
     "execution_count": 9,
     "metadata": {},
     "output_type": "execute_result"
    }
   ],
   "source": [
    "#max_value\n",
    "data[\"date\"].max()"
   ]
  },
  {
   "cell_type": "markdown",
   "id": "f40a17a4",
   "metadata": {},
   "source": [
    "Now we can see that we do not have complete years of data for 2010 and 2017. In a first look, year does not seem a good feature. But what is the impact of the years among the stations?"
   ]
  },
  {
   "cell_type": "code",
   "execution_count": 10,
   "id": "0646ba03",
   "metadata": {},
   "outputs": [],
   "source": [
    "#aggrouping data by year\n",
    "df_year = pd.DataFrame(data.groupby([\"year\", \"station\"])[\"people_flow\"].sum().rename(\"total_flow\"))\n",
    "df_year = df_year.reset_index()\n",
    "\n",
    "#normalizing data\n",
    "max_value = df_year[\"total_flow\"].max()\n",
    "df_year[\"total_flow\"] = df_year[\"total_flow\"]/max_value\n",
    "\n",
    "#sorting values\n",
    "df_year = df_year.sort_values(by=[\"year\", \"total_flow\"], ascending=False)"
   ]
  },
  {
   "cell_type": "code",
   "execution_count": 11,
   "id": "50af0091",
   "metadata": {},
   "outputs": [],
   "source": [
    "#creating a new dataframe with the top5 stations in every year\n",
    "years = [2010, 2011, 2012, 2013, \n",
    "        2014, 2015, 2016, 2017]\n",
    "\n",
    "#initializing an empty dataframe\n",
    "df_plot = pd.DataFrame()\n",
    "\n",
    "#loop\n",
    "for y in years:\n",
    "    #creating an intermed dataframe\n",
    "    df_intermed = df_year[df_year[\"year\"] == y]\n",
    "    df_intermed = df_intermed.head(5)\n",
    "    \n",
    "    #concatenating the dataframes\n",
    "    df_plot = pd.concat([df_plot, df_intermed])"
   ]
  },
  {
   "cell_type": "code",
   "execution_count": 12,
   "id": "4aa87496",
   "metadata": {},
   "outputs": [
    {
     "data": {
      "text/html": [
       "<div>\n",
       "<style scoped>\n",
       "    .dataframe tbody tr th:only-of-type {\n",
       "        vertical-align: middle;\n",
       "    }\n",
       "\n",
       "    .dataframe tbody tr th {\n",
       "        vertical-align: top;\n",
       "    }\n",
       "\n",
       "    .dataframe thead th {\n",
       "        text-align: right;\n",
       "    }\n",
       "</style>\n",
       "<table border=\"1\" class=\"dataframe\">\n",
       "  <thead>\n",
       "    <tr style=\"text-align: right;\">\n",
       "      <th></th>\n",
       "      <th>year</th>\n",
       "      <th>station</th>\n",
       "      <th>total_flow</th>\n",
       "    </tr>\n",
       "  </thead>\n",
       "  <tbody>\n",
       "    <tr>\n",
       "      <th>67</th>\n",
       "      <td>2010</td>\n",
       "      <td>34 ST-PENN STA</td>\n",
       "      <td>0.672607</td>\n",
       "    </tr>\n",
       "    <tr>\n",
       "      <th>72</th>\n",
       "      <td>2010</td>\n",
       "      <td>42 ST-GRD CNTRL</td>\n",
       "      <td>0.565352</td>\n",
       "    </tr>\n",
       "    <tr>\n",
       "      <th>66</th>\n",
       "      <td>2010</td>\n",
       "      <td>34 ST-HERALD SQ</td>\n",
       "      <td>0.508624</td>\n",
       "    </tr>\n",
       "    <tr>\n",
       "      <th>18</th>\n",
       "      <td>2010</td>\n",
       "      <td>14 ST-UNION SQ</td>\n",
       "      <td>0.462018</td>\n",
       "    </tr>\n",
       "    <tr>\n",
       "      <th>113</th>\n",
       "      <td>2010</td>\n",
       "      <td>86 ST</td>\n",
       "      <td>0.425442</td>\n",
       "    </tr>\n",
       "  </tbody>\n",
       "</table>\n",
       "</div>"
      ],
      "text/plain": [
       "     year          station  total_flow\n",
       "67   2010   34 ST-PENN STA    0.672607\n",
       "72   2010  42 ST-GRD CNTRL    0.565352\n",
       "66   2010  34 ST-HERALD SQ    0.508624\n",
       "18   2010   14 ST-UNION SQ    0.462018\n",
       "113  2010            86 ST    0.425442"
      ]
     },
     "execution_count": 12,
     "metadata": {},
     "output_type": "execute_result"
    }
   ],
   "source": [
    "#a small check on our new dataframe\n",
    "df_plot.head()"
   ]
  },
  {
   "cell_type": "code",
   "execution_count": 13,
   "id": "3537b020",
   "metadata": {},
   "outputs": [
    {
     "data": {
      "text/plain": [
       "Text(0.5, 1.0, 'Top 5 stations in every year')"
      ]
     },
     "execution_count": 13,
     "metadata": {},
     "output_type": "execute_result"
    },
    {
     "data": {
      "image/png": "[encoded data removed]",
      "text/plain": [
       "<Figure size 2000x400 with 1 Axes>"
      ]
     },
     "metadata": {},
     "output_type": "display_data"
    }
   ],
   "source": [
    "#creating the plot\n",
    "plt.figure(figsize=(20, 4))\n",
    "sns.barplot(x=\"year\", y=\"total_flow\", hue=\"station\", data=df_plot)\n",
    "plt.title(\"Top 5 stations in every year\")"
   ]
  },
  {
   "cell_type": "markdown",
   "id": "37045b56",
   "metadata": {},
   "source": [
    "We have almost the same pattern in every year. Definetly we are not going to use year as an input feature for our machine learning model that is going to be built in our next notebook."
   ]
  },
  {
   "cell_type": "code",
   "execution_count": null,
   "id": "5d3b982b",
   "metadata": {},
   "outputs": [],
   "source": []
  }
 ],
 "metadata": {
  "kernelspec": {
   "display_name": "Python 3 (ipykernel)",
   "language": "python",
   "name": "python3"
  },
  "language_info": {
   "codemirror_mode": {
    "name": "ipython",
    "version": 3
   },
   "file_extension": ".py",
   "mimetype": "text/x-python",
   "name": "python",
   "nbconvert_exporter": "python",
   "pygments_lexer": "ipython3",
   "version": "3.9.13"
  }
 },
 "nbformat": 4,
 "nbformat_minor": 5
}
